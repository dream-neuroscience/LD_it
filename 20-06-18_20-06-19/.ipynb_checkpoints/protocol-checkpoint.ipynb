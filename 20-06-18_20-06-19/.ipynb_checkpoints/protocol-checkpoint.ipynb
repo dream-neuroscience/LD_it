{
 "cells": [
  {
   "cell_type": "markdown",
   "metadata": {},
   "source": [
    "# pre-night (20-06-18)"
   ]
  },
  {
   "cell_type": "markdown",
   "metadata": {},
   "source": [
    "This is the first documented night, so aspirations are not too high.  \n",
    "No EEG/tES will be applied.  \n",
    "\n",
    "**IV:** natural awakenings (no experimental manipulation)  \n",
    "**DV:** sleep data from cheap smart watch(1); dream reports  \n",
    "\n",
    "(1)Amazfit Bip; App: Amazfit Notify 9.0.4"
   ]
  },
  {
   "cell_type": "markdown",
   "metadata": {},
   "source": [
    "**Goals:**  \n",
    "1. set up pink noise speaker to fall asleep\n",
    "    - https://www.youtube.com/watch?v=K993AhPgaaA\n",
    "2. every time waking up, make an auditory note of dream report\n",
    "    - in the morning, try to recollect and reformulate\n",
    "3. in the morning, get sleep data from smartwatch and make graph including dream reports"
   ]
  },
  {
   "cell_type": "markdown",
   "metadata": {},
   "source": [
    "# post-night  (20-06-19)"
   ]
  },
  {
   "cell_type": "markdown",
   "metadata": {},
   "source": [
    "## problems"
   ]
  },
  {
   "cell_type": "markdown",
   "metadata": {},
   "source": []
  },
  {
   "cell_type": "markdown",
   "metadata": {},
   "source": [
    "## data analyses"
   ]
  },
  {
   "cell_type": "code",
   "execution_count": null,
   "metadata": {},
   "outputs": [],
   "source": []
  },
  {
   "cell_type": "markdown",
   "metadata": {},
   "source": [
    "## what i've learned"
   ]
  },
  {
   "cell_type": "markdown",
   "metadata": {},
   "source": []
  },
  {
   "cell_type": "markdown",
   "metadata": {},
   "source": [
    "## try sometime next:"
   ]
  },
  {
   "cell_type": "markdown",
   "metadata": {},
   "source": []
  }
 ],
 "metadata": {
  "kernelspec": {
   "display_name": "Python 3",
   "language": "python",
   "name": "python3"
  },
  "language_info": {
   "codemirror_mode": {
    "name": "ipython",
    "version": 3
   },
   "file_extension": ".py",
   "mimetype": "text/x-python",
   "name": "python",
   "nbconvert_exporter": "python",
   "pygments_lexer": "ipython3",
   "version": "3.7.7"
  }
 },
 "nbformat": 4,
 "nbformat_minor": 4
}
