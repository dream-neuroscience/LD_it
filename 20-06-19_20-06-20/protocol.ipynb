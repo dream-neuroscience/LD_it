{
 "cells": [
  {
   "cell_type": "markdown",
   "metadata": {},
   "source": [
    "# pre-night (20-06-18)"
   ]
  },
  {
   "cell_type": "markdown",
   "metadata": {},
   "source": [
    "**Goals:**  \n",
    "None today, just check the sleep data."
   ]
  },
  {
   "cell_type": "markdown",
   "metadata": {},
   "source": [
    "# post-night  (20-06-19)"
   ]
  },
  {
   "cell_type": "markdown",
   "metadata": {},
   "source": [
    "## problems"
   ]
  },
  {
   "cell_type": "markdown",
   "metadata": {},
   "source": [
    "* no motivation to add dream report today"
   ]
  },
  {
   "cell_type": "markdown",
   "metadata": {},
   "source": [
    "## data analyses"
   ]
  },
  {
   "cell_type": "code",
   "execution_count": 82,
   "metadata": {},
   "outputs": [],
   "source": [
    "%matplotlib notebook\n",
    "\n",
    "# import the python functions\n",
    "import sys\n",
    "sys.path.insert(1, '../py_functions')\n",
    "from python_functions import *"
   ]
  },
  {
   "cell_type": "code",
   "execution_count": 83,
   "metadata": {},
   "outputs": [],
   "source": [
    "# manually add the time points of dream report onsets\n",
    "report_times = [\n",
    "    #[False,2,39,56],\n",
    "]\n",
    "\n",
    "# read in data\n",
    "df = pd.read_excel('raw_data.xlsx')"
   ]
  },
  {
   "cell_type": "code",
   "execution_count": 84,
   "metadata": {},
   "outputs": [],
   "source": [
    "[state_onsets, depths_succ] = read_raw_data(df)\n",
    "\n",
    "# manually add the time i went to bed / lights off (from note app and phone)\n",
    "# make sure that if this is later than smartwatch-detected onset, get the later onset\n",
    "lights_off_time = datetime.datetime.strptime(\"20/06/2020 00:27:0\", '%d/%m/%Y %H:%M:%S')\n",
    "if lights_off_time < state_onsets[0]:\n",
    "    state_onsets = [lights_off_time] + state_onsets\n",
    "elif lights_off_time > state_onsets[0]:\n",
    "    state_onsets = [lights_off_time] + state_onsets\n",
    "    state_onsets[1] = lights_off_time\n",
    "depths_succ = [0] + depths_succ\n",
    "\n",
    "# get the time points of dream report onsets\n",
    "dts_reports = []\n",
    "for rt in report_times:\n",
    "    dt_object = get_datetime(*rt)\n",
    "    date = matplotlib.dates.date2num(dt_object)\n",
    "    dts_reports.append(date)"
   ]
  },
  {
   "cell_type": "code",
   "execution_count": 85,
   "metadata": {},
   "outputs": [
    {
     "ename": "NameError",
     "evalue": "name 'ax' is not defined",
     "output_type": "error",
     "traceback": [
      "\u001b[1;31m---------------------------------------------------------------------------\u001b[0m",
      "\u001b[1;31mNameError\u001b[0m                                 Traceback (most recent call last)",
      "\u001b[1;32m<ipython-input-85-3c01770dde8c>\u001b[0m in \u001b[0;36m<module>\u001b[1;34m\u001b[0m\n\u001b[0;32m      1\u001b[0m \u001b[1;31m# put together hypnogram plot\u001b[0m\u001b[1;33m\u001b[0m\u001b[1;33m\u001b[0m\u001b[1;33m\u001b[0m\u001b[0m\n\u001b[1;32m----> 2\u001b[1;33m \u001b[0max\u001b[0m \u001b[1;33m=\u001b[0m \u001b[0mget_ax\u001b[0m\u001b[1;33m(\u001b[0m\u001b[0mstate_onsets\u001b[0m\u001b[1;33m,\u001b[0m \u001b[0mdepths_succ\u001b[0m\u001b[1;33m)\u001b[0m\u001b[1;33m\u001b[0m\u001b[1;33m\u001b[0m\u001b[0m\n\u001b[0m\u001b[0;32m      3\u001b[0m \u001b[1;32mfor\u001b[0m \u001b[0mdtr\u001b[0m \u001b[1;32min\u001b[0m \u001b[0mdts_reports\u001b[0m\u001b[1;33m:\u001b[0m\u001b[1;33m\u001b[0m\u001b[1;33m\u001b[0m\u001b[0m\n\u001b[0;32m      4\u001b[0m     \u001b[0mplt\u001b[0m\u001b[1;33m.\u001b[0m\u001b[0maxvline\u001b[0m\u001b[1;33m(\u001b[0m\u001b[0mx\u001b[0m\u001b[1;33m=\u001b[0m\u001b[0mdtr\u001b[0m\u001b[1;33m,\u001b[0m \u001b[0mc\u001b[0m\u001b[1;33m=\u001b[0m\u001b[1;34m\"red\"\u001b[0m\u001b[1;33m,\u001b[0m \u001b[0mlinewidth\u001b[0m\u001b[1;33m=\u001b[0m\u001b[1;36m0.75\u001b[0m\u001b[1;33m)\u001b[0m\u001b[1;33m\u001b[0m\u001b[1;33m\u001b[0m\u001b[0m\n",
      "\u001b[1;32m~\\Documents\\Nico\\Lucid Dream Project\\LD_it\\python_functions.py\u001b[0m in \u001b[0;36mget_ax\u001b[1;34m(state_onsets, depths_succ)\u001b[0m\n\u001b[0;32m     38\u001b[0m     \u001b[1;31m# already convert datetimes to plt numbers at this point (since this function is only important for plotting anyway)\u001b[0m\u001b[1;33m\u001b[0m\u001b[1;33m\u001b[0m\u001b[1;33m\u001b[0m\u001b[0m\n\u001b[0;32m     39\u001b[0m     \u001b[0mdates\u001b[0m \u001b[1;33m=\u001b[0m \u001b[0mmatplotlib\u001b[0m\u001b[1;33m.\u001b[0m\u001b[0mdates\u001b[0m\u001b[1;33m.\u001b[0m\u001b[0mdate2num\u001b[0m\u001b[1;33m(\u001b[0m\u001b[0mboxcar_times\u001b[0m\u001b[1;33m)\u001b[0m\u001b[1;33m\u001b[0m\u001b[1;33m\u001b[0m\u001b[0m\n\u001b[1;32m---> 40\u001b[1;33m     \u001b[1;32mreturn\u001b[0m \u001b[1;33m[\u001b[0m\u001b[0mdates\u001b[0m\u001b[1;33m,\u001b[0m \u001b[0mboxcar_depths\u001b[0m\u001b[1;33m]\u001b[0m\u001b[1;33m\u001b[0m\u001b[1;33m\u001b[0m\u001b[0m\n\u001b[0m\u001b[0;32m     41\u001b[0m \u001b[1;33m\u001b[0m\u001b[0m\n\u001b[0;32m     42\u001b[0m \u001b[1;32mdef\u001b[0m \u001b[0mget_ax\u001b[0m\u001b[1;33m(\u001b[0m\u001b[0mstate_onsets\u001b[0m\u001b[1;33m,\u001b[0m \u001b[0mdepths_succ\u001b[0m\u001b[1;33m)\u001b[0m\u001b[1;33m:\u001b[0m\u001b[1;33m\u001b[0m\u001b[1;33m\u001b[0m\u001b[0m\n",
      "\u001b[1;31mNameError\u001b[0m: name 'ax' is not defined"
     ]
    }
   ],
   "source": [
    "# put together hypnogram plot\n",
    "ax = get_ax(state_onsets, depths_succ)\n",
    "for dtr in dts_reports:\n",
    "    plt.axvline(x=dtr, c=\"red\", linewidth=0.75)"
   ]
  },
  {
   "cell_type": "markdown",
   "metadata": {},
   "source": [
    "## what i've learned"
   ]
  },
  {
   "cell_type": "markdown",
   "metadata": {},
   "source": []
  },
  {
   "cell_type": "markdown",
   "metadata": {},
   "source": [
    "## try sometime next:"
   ]
  },
  {
   "cell_type": "markdown",
   "metadata": {},
   "source": []
  }
 ],
 "metadata": {
  "kernelspec": {
   "display_name": "Python 3",
   "language": "python",
   "name": "python3"
  },
  "language_info": {
   "codemirror_mode": {
    "name": "ipython",
    "version": 3
   },
   "file_extension": ".py",
   "mimetype": "text/x-python",
   "name": "python",
   "nbconvert_exporter": "python",
   "pygments_lexer": "ipython3",
   "version": "3.7.4"
  }
 },
 "nbformat": 4,
 "nbformat_minor": 4
}
